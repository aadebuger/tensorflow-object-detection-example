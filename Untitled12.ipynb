{
 "cells": [
  {
   "cell_type": "code",
   "execution_count": 1,
   "metadata": {},
   "outputs": [],
   "source": [
    "import arrow\n",
    "import pandas as pd\n",
    "arrow.now()\n",
    "x=0\n",
    "y=0\n",
    "start1=11.0\n",
    "df=pd.DataFrame({\n",
    "    \"x\" :x,\n",
    "    'y':y,\n",
    "    'start':start1,\n",
    "    'span':arrow.now().format('YYYYMMDDHHmmss')\n",
    "    },index=[0])\n",
    "#df.to_csv('visiondetecttest.csv', mode='a', header=False)\n",
    "df.to_csv('visiondetecttest.csv')\n",
    "\n"
   ]
  },
  {
   "cell_type": "code",
   "execution_count": 2,
   "metadata": {},
   "outputs": [
    {
     "name": "stdout",
     "output_type": "stream",
     "text": [
      ",x,y,start,span\r\n",
      "0,0,0,11.0,20190705140103\r\n"
     ]
    }
   ],
   "source": [
    "!cat visiondetecttest.csv"
   ]
  },
  {
   "cell_type": "code",
   "execution_count": null,
   "metadata": {},
   "outputs": [],
   "source": []
  }
 ],
 "metadata": {
  "kernelspec": {
   "display_name": "Python 3",
   "language": "python",
   "name": "python3"
  },
  "language_info": {
   "codemirror_mode": {
    "name": "ipython",
    "version": 3
   },
   "file_extension": ".py",
   "mimetype": "text/x-python",
   "name": "python",
   "nbconvert_exporter": "python",
   "pygments_lexer": "ipython3",
   "version": "3.6.7"
  }
 },
 "nbformat": 4,
 "nbformat_minor": 2
}
