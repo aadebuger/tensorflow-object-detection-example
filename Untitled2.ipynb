{
 "cells": [
  {
   "cell_type": "code",
   "execution_count": 5,
   "metadata": {},
   "outputs": [
    {
     "name": "stdout",
     "output_type": "stream",
     "text": [
      "belt_output2019052800.mp4  belt_output2019052805.mp4  belt_output2019052811.mp4\r\n",
      "belt_output2019052801.mp4  belt_output2019052806.mp4  belt_output2019052812.mp4\r\n",
      "belt_output2019052802.mp4  belt_output2019052807.mp4  belt_output2019052813.mp4\r\n",
      "belt_output2019052803.mp4  belt_output2019052808.mp4  belt_output2019052814.mp4\r\n",
      "belt_output2019052804.mp4  belt_output2019052810.mp4  belt_output2019052815.mp4\r\n"
     ]
    }
   ],
   "source": [
    "!ls /home/aadebugergf/aixgf/tzimagedata/beltvideo"
   ]
  },
  {
   "cell_type": "code",
   "execution_count": 6,
   "metadata": {},
   "outputs": [
    {
     "name": "stdout",
     "output_type": "stream",
     "text": [
      "ls: cannot access 'belt_output2019052815.mp4': No such file or directory\r\n",
      "/home/aadebugergf/aixgf/tzimagedata/beltvideo/:\r\n",
      "belt_output2019052800.mp4  belt_output2019052805.mp4  belt_output2019052811.mp4\r\n",
      "belt_output2019052801.mp4  belt_output2019052806.mp4  belt_output2019052812.mp4\r\n",
      "belt_output2019052802.mp4  belt_output2019052807.mp4  belt_output2019052813.mp4\r\n",
      "belt_output2019052803.mp4  belt_output2019052808.mp4  belt_output2019052814.mp4\r\n",
      "belt_output2019052804.mp4  belt_output2019052810.mp4  belt_output2019052815.mp4\r\n"
     ]
    }
   ],
   "source": [
    "!ls /home/aadebugergf/aixgf/tzimagedata/beltvideo/ belt_output2019052815.mp4"
   ]
  },
  {
   "cell_type": "code",
   "execution_count": null,
   "metadata": {},
   "outputs": [],
   "source": []
  }
 ],
 "metadata": {
  "kernelspec": {
   "display_name": "Python 3",
   "language": "python",
   "name": "python3"
  },
  "language_info": {
   "codemirror_mode": {
    "name": "ipython",
    "version": 3
   },
   "file_extension": ".py",
   "mimetype": "text/x-python",
   "name": "python",
   "nbconvert_exporter": "python",
   "pygments_lexer": "ipython3",
   "version": "3.6.7"
  }
 },
 "nbformat": 4,
 "nbformat_minor": 2
}
